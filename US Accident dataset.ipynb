{
 "cells": [
  {
   "cell_type": "markdown",
   "id": "be10c914",
   "metadata": {},
   "source": [
    "# US Accident analysis dataset"
   ]
  },
  {
   "cell_type": "code",
   "execution_count": 1,
   "id": "3f58f8ad",
   "metadata": {},
   "outputs": [],
   "source": [
    "import numpy as np\n",
    "import pandas as pd\n",
    "import seaborn as sns\n",
    "import matplotlib.pyplot as plt\n",
    "%matplotlib inline"
   ]
  },
  {
   "cell_type": "markdown",
   "id": "f928c441",
   "metadata": {},
   "source": [
    "# Download the dataset"
   ]
  },
  {
   "cell_type": "code",
   "execution_count": 2,
   "id": "c147f767",
   "metadata": {},
   "outputs": [],
   "source": [
    "data=pd.read_csv('US_Accidents_Dec21_updated.csv')"
   ]
  },
  {
   "cell_type": "code",
   "execution_count": 4,
   "id": "77277f23",
   "metadata": {},
   "outputs": [
    {
     "data": {
      "text/html": [
       "<div>\n",
       "<style scoped>\n",
       "    .dataframe tbody tr th:only-of-type {\n",
       "        vertical-align: middle;\n",
       "    }\n",
       "\n",
       "    .dataframe tbody tr th {\n",
       "        vertical-align: top;\n",
       "    }\n",
       "\n",
       "    .dataframe thead th {\n",
       "        text-align: right;\n",
       "    }\n",
       "</style>\n",
       "<table border=\"1\" class=\"dataframe\">\n",
       "  <thead>\n",
       "    <tr style=\"text-align: right;\">\n",
       "      <th></th>\n",
       "      <th>ID</th>\n",
       "      <th>Severity</th>\n",
       "      <th>Start_Time</th>\n",
       "      <th>End_Time</th>\n",
       "      <th>Start_Lat</th>\n",
       "      <th>Start_Lng</th>\n",
       "      <th>End_Lat</th>\n",
       "      <th>End_Lng</th>\n",
       "      <th>Distance(mi)</th>\n",
       "      <th>Description</th>\n",
       "      <th>...</th>\n",
       "      <th>Roundabout</th>\n",
       "      <th>Station</th>\n",
       "      <th>Stop</th>\n",
       "      <th>Traffic_Calming</th>\n",
       "      <th>Traffic_Signal</th>\n",
       "      <th>Turning_Loop</th>\n",
       "      <th>Sunrise_Sunset</th>\n",
       "      <th>Civil_Twilight</th>\n",
       "      <th>Nautical_Twilight</th>\n",
       "      <th>Astronomical_Twilight</th>\n",
       "    </tr>\n",
       "  </thead>\n",
       "  <tbody>\n",
       "    <tr>\n",
       "      <th>0</th>\n",
       "      <td>A-1</td>\n",
       "      <td>3</td>\n",
       "      <td>2016-02-08 00:37:08</td>\n",
       "      <td>2016-02-08 06:37:08</td>\n",
       "      <td>40.108910</td>\n",
       "      <td>-83.092860</td>\n",
       "      <td>40.112060</td>\n",
       "      <td>-83.031870</td>\n",
       "      <td>3.230</td>\n",
       "      <td>Between Sawmill Rd/Exit 20 and OH-315/Olentang...</td>\n",
       "      <td>...</td>\n",
       "      <td>False</td>\n",
       "      <td>False</td>\n",
       "      <td>False</td>\n",
       "      <td>False</td>\n",
       "      <td>False</td>\n",
       "      <td>False</td>\n",
       "      <td>Night</td>\n",
       "      <td>Night</td>\n",
       "      <td>Night</td>\n",
       "      <td>Night</td>\n",
       "    </tr>\n",
       "    <tr>\n",
       "      <th>1</th>\n",
       "      <td>A-2</td>\n",
       "      <td>2</td>\n",
       "      <td>2016-02-08 05:56:20</td>\n",
       "      <td>2016-02-08 11:56:20</td>\n",
       "      <td>39.865420</td>\n",
       "      <td>-84.062800</td>\n",
       "      <td>39.865010</td>\n",
       "      <td>-84.048730</td>\n",
       "      <td>0.747</td>\n",
       "      <td>At OH-4/OH-235/Exit 41 - Accident.</td>\n",
       "      <td>...</td>\n",
       "      <td>False</td>\n",
       "      <td>False</td>\n",
       "      <td>False</td>\n",
       "      <td>False</td>\n",
       "      <td>False</td>\n",
       "      <td>False</td>\n",
       "      <td>Night</td>\n",
       "      <td>Night</td>\n",
       "      <td>Night</td>\n",
       "      <td>Night</td>\n",
       "    </tr>\n",
       "    <tr>\n",
       "      <th>2</th>\n",
       "      <td>A-3</td>\n",
       "      <td>2</td>\n",
       "      <td>2016-02-08 06:15:39</td>\n",
       "      <td>2016-02-08 12:15:39</td>\n",
       "      <td>39.102660</td>\n",
       "      <td>-84.524680</td>\n",
       "      <td>39.102090</td>\n",
       "      <td>-84.523960</td>\n",
       "      <td>0.055</td>\n",
       "      <td>At I-71/US-50/Exit 1 - Accident.</td>\n",
       "      <td>...</td>\n",
       "      <td>False</td>\n",
       "      <td>False</td>\n",
       "      <td>False</td>\n",
       "      <td>False</td>\n",
       "      <td>False</td>\n",
       "      <td>False</td>\n",
       "      <td>Night</td>\n",
       "      <td>Night</td>\n",
       "      <td>Night</td>\n",
       "      <td>Day</td>\n",
       "    </tr>\n",
       "    <tr>\n",
       "      <th>3</th>\n",
       "      <td>A-4</td>\n",
       "      <td>2</td>\n",
       "      <td>2016-02-08 06:51:45</td>\n",
       "      <td>2016-02-08 12:51:45</td>\n",
       "      <td>41.062130</td>\n",
       "      <td>-81.537840</td>\n",
       "      <td>41.062170</td>\n",
       "      <td>-81.535470</td>\n",
       "      <td>0.123</td>\n",
       "      <td>At Dart Ave/Exit 21 - Accident.</td>\n",
       "      <td>...</td>\n",
       "      <td>False</td>\n",
       "      <td>False</td>\n",
       "      <td>False</td>\n",
       "      <td>False</td>\n",
       "      <td>False</td>\n",
       "      <td>False</td>\n",
       "      <td>Night</td>\n",
       "      <td>Night</td>\n",
       "      <td>Day</td>\n",
       "      <td>Day</td>\n",
       "    </tr>\n",
       "    <tr>\n",
       "      <th>4</th>\n",
       "      <td>A-5</td>\n",
       "      <td>3</td>\n",
       "      <td>2016-02-08 07:53:43</td>\n",
       "      <td>2016-02-08 13:53:43</td>\n",
       "      <td>39.172393</td>\n",
       "      <td>-84.492792</td>\n",
       "      <td>39.170476</td>\n",
       "      <td>-84.501798</td>\n",
       "      <td>0.500</td>\n",
       "      <td>At Mitchell Ave/Exit 6 - Accident.</td>\n",
       "      <td>...</td>\n",
       "      <td>False</td>\n",
       "      <td>False</td>\n",
       "      <td>False</td>\n",
       "      <td>False</td>\n",
       "      <td>False</td>\n",
       "      <td>False</td>\n",
       "      <td>Day</td>\n",
       "      <td>Day</td>\n",
       "      <td>Day</td>\n",
       "      <td>Day</td>\n",
       "    </tr>\n",
       "    <tr>\n",
       "      <th>...</th>\n",
       "      <td>...</td>\n",
       "      <td>...</td>\n",
       "      <td>...</td>\n",
       "      <td>...</td>\n",
       "      <td>...</td>\n",
       "      <td>...</td>\n",
       "      <td>...</td>\n",
       "      <td>...</td>\n",
       "      <td>...</td>\n",
       "      <td>...</td>\n",
       "      <td>...</td>\n",
       "      <td>...</td>\n",
       "      <td>...</td>\n",
       "      <td>...</td>\n",
       "      <td>...</td>\n",
       "      <td>...</td>\n",
       "      <td>...</td>\n",
       "      <td>...</td>\n",
       "      <td>...</td>\n",
       "      <td>...</td>\n",
       "      <td>...</td>\n",
       "    </tr>\n",
       "    <tr>\n",
       "      <th>2845337</th>\n",
       "      <td>A-2845338</td>\n",
       "      <td>2</td>\n",
       "      <td>2019-08-23 18:03:25</td>\n",
       "      <td>2019-08-23 18:32:01</td>\n",
       "      <td>34.002480</td>\n",
       "      <td>-117.379360</td>\n",
       "      <td>33.998880</td>\n",
       "      <td>-117.370940</td>\n",
       "      <td>0.543</td>\n",
       "      <td>At Market St - Accident.</td>\n",
       "      <td>...</td>\n",
       "      <td>False</td>\n",
       "      <td>False</td>\n",
       "      <td>False</td>\n",
       "      <td>False</td>\n",
       "      <td>False</td>\n",
       "      <td>False</td>\n",
       "      <td>Day</td>\n",
       "      <td>Day</td>\n",
       "      <td>Day</td>\n",
       "      <td>Day</td>\n",
       "    </tr>\n",
       "    <tr>\n",
       "      <th>2845338</th>\n",
       "      <td>A-2845339</td>\n",
       "      <td>2</td>\n",
       "      <td>2019-08-23 19:11:30</td>\n",
       "      <td>2019-08-23 19:38:23</td>\n",
       "      <td>32.766960</td>\n",
       "      <td>-117.148060</td>\n",
       "      <td>32.765550</td>\n",
       "      <td>-117.153630</td>\n",
       "      <td>0.338</td>\n",
       "      <td>At Camino Del Rio/Mission Center Rd - Accident.</td>\n",
       "      <td>...</td>\n",
       "      <td>False</td>\n",
       "      <td>False</td>\n",
       "      <td>False</td>\n",
       "      <td>False</td>\n",
       "      <td>False</td>\n",
       "      <td>False</td>\n",
       "      <td>Day</td>\n",
       "      <td>Day</td>\n",
       "      <td>Day</td>\n",
       "      <td>Day</td>\n",
       "    </tr>\n",
       "    <tr>\n",
       "      <th>2845339</th>\n",
       "      <td>A-2845340</td>\n",
       "      <td>2</td>\n",
       "      <td>2019-08-23 19:00:21</td>\n",
       "      <td>2019-08-23 19:28:49</td>\n",
       "      <td>33.775450</td>\n",
       "      <td>-117.847790</td>\n",
       "      <td>33.777400</td>\n",
       "      <td>-117.857270</td>\n",
       "      <td>0.561</td>\n",
       "      <td>At Glassell St/Grand Ave - Accident. in the ri...</td>\n",
       "      <td>...</td>\n",
       "      <td>False</td>\n",
       "      <td>False</td>\n",
       "      <td>False</td>\n",
       "      <td>False</td>\n",
       "      <td>False</td>\n",
       "      <td>False</td>\n",
       "      <td>Day</td>\n",
       "      <td>Day</td>\n",
       "      <td>Day</td>\n",
       "      <td>Day</td>\n",
       "    </tr>\n",
       "    <tr>\n",
       "      <th>2845340</th>\n",
       "      <td>A-2845341</td>\n",
       "      <td>2</td>\n",
       "      <td>2019-08-23 19:00:21</td>\n",
       "      <td>2019-08-23 19:29:42</td>\n",
       "      <td>33.992460</td>\n",
       "      <td>-118.403020</td>\n",
       "      <td>33.983110</td>\n",
       "      <td>-118.395650</td>\n",
       "      <td>0.772</td>\n",
       "      <td>At CA-90/Marina Fwy/Jefferson Blvd - Accident.</td>\n",
       "      <td>...</td>\n",
       "      <td>False</td>\n",
       "      <td>False</td>\n",
       "      <td>False</td>\n",
       "      <td>False</td>\n",
       "      <td>False</td>\n",
       "      <td>False</td>\n",
       "      <td>Day</td>\n",
       "      <td>Day</td>\n",
       "      <td>Day</td>\n",
       "      <td>Day</td>\n",
       "    </tr>\n",
       "    <tr>\n",
       "      <th>2845341</th>\n",
       "      <td>A-2845342</td>\n",
       "      <td>2</td>\n",
       "      <td>2019-08-23 18:52:06</td>\n",
       "      <td>2019-08-23 19:21:31</td>\n",
       "      <td>34.133930</td>\n",
       "      <td>-117.230920</td>\n",
       "      <td>34.137360</td>\n",
       "      <td>-117.239340</td>\n",
       "      <td>0.537</td>\n",
       "      <td>At Highland Ave/Arden Ave - Accident.</td>\n",
       "      <td>...</td>\n",
       "      <td>False</td>\n",
       "      <td>False</td>\n",
       "      <td>False</td>\n",
       "      <td>False</td>\n",
       "      <td>False</td>\n",
       "      <td>False</td>\n",
       "      <td>Day</td>\n",
       "      <td>Day</td>\n",
       "      <td>Day</td>\n",
       "      <td>Day</td>\n",
       "    </tr>\n",
       "  </tbody>\n",
       "</table>\n",
       "<p>2845342 rows × 47 columns</p>\n",
       "</div>"
      ],
      "text/plain": [
       "                ID  Severity           Start_Time             End_Time  \\\n",
       "0              A-1         3  2016-02-08 00:37:08  2016-02-08 06:37:08   \n",
       "1              A-2         2  2016-02-08 05:56:20  2016-02-08 11:56:20   \n",
       "2              A-3         2  2016-02-08 06:15:39  2016-02-08 12:15:39   \n",
       "3              A-4         2  2016-02-08 06:51:45  2016-02-08 12:51:45   \n",
       "4              A-5         3  2016-02-08 07:53:43  2016-02-08 13:53:43   \n",
       "...            ...       ...                  ...                  ...   \n",
       "2845337  A-2845338         2  2019-08-23 18:03:25  2019-08-23 18:32:01   \n",
       "2845338  A-2845339         2  2019-08-23 19:11:30  2019-08-23 19:38:23   \n",
       "2845339  A-2845340         2  2019-08-23 19:00:21  2019-08-23 19:28:49   \n",
       "2845340  A-2845341         2  2019-08-23 19:00:21  2019-08-23 19:29:42   \n",
       "2845341  A-2845342         2  2019-08-23 18:52:06  2019-08-23 19:21:31   \n",
       "\n",
       "         Start_Lat   Start_Lng    End_Lat     End_Lng  Distance(mi)  \\\n",
       "0        40.108910  -83.092860  40.112060  -83.031870         3.230   \n",
       "1        39.865420  -84.062800  39.865010  -84.048730         0.747   \n",
       "2        39.102660  -84.524680  39.102090  -84.523960         0.055   \n",
       "3        41.062130  -81.537840  41.062170  -81.535470         0.123   \n",
       "4        39.172393  -84.492792  39.170476  -84.501798         0.500   \n",
       "...            ...         ...        ...         ...           ...   \n",
       "2845337  34.002480 -117.379360  33.998880 -117.370940         0.543   \n",
       "2845338  32.766960 -117.148060  32.765550 -117.153630         0.338   \n",
       "2845339  33.775450 -117.847790  33.777400 -117.857270         0.561   \n",
       "2845340  33.992460 -118.403020  33.983110 -118.395650         0.772   \n",
       "2845341  34.133930 -117.230920  34.137360 -117.239340         0.537   \n",
       "\n",
       "                                               Description  ...  Roundabout  \\\n",
       "0        Between Sawmill Rd/Exit 20 and OH-315/Olentang...  ...       False   \n",
       "1                       At OH-4/OH-235/Exit 41 - Accident.  ...       False   \n",
       "2                         At I-71/US-50/Exit 1 - Accident.  ...       False   \n",
       "3                          At Dart Ave/Exit 21 - Accident.  ...       False   \n",
       "4                       At Mitchell Ave/Exit 6 - Accident.  ...       False   \n",
       "...                                                    ...  ...         ...   \n",
       "2845337                           At Market St - Accident.  ...       False   \n",
       "2845338    At Camino Del Rio/Mission Center Rd - Accident.  ...       False   \n",
       "2845339  At Glassell St/Grand Ave - Accident. in the ri...  ...       False   \n",
       "2845340     At CA-90/Marina Fwy/Jefferson Blvd - Accident.  ...       False   \n",
       "2845341              At Highland Ave/Arden Ave - Accident.  ...       False   \n",
       "\n",
       "        Station   Stop Traffic_Calming Traffic_Signal Turning_Loop  \\\n",
       "0         False  False           False          False        False   \n",
       "1         False  False           False          False        False   \n",
       "2         False  False           False          False        False   \n",
       "3         False  False           False          False        False   \n",
       "4         False  False           False          False        False   \n",
       "...         ...    ...             ...            ...          ...   \n",
       "2845337   False  False           False          False        False   \n",
       "2845338   False  False           False          False        False   \n",
       "2845339   False  False           False          False        False   \n",
       "2845340   False  False           False          False        False   \n",
       "2845341   False  False           False          False        False   \n",
       "\n",
       "        Sunrise_Sunset Civil_Twilight Nautical_Twilight Astronomical_Twilight  \n",
       "0                Night          Night             Night                 Night  \n",
       "1                Night          Night             Night                 Night  \n",
       "2                Night          Night             Night                   Day  \n",
       "3                Night          Night               Day                   Day  \n",
       "4                  Day            Day               Day                   Day  \n",
       "...                ...            ...               ...                   ...  \n",
       "2845337            Day            Day               Day                   Day  \n",
       "2845338            Day            Day               Day                   Day  \n",
       "2845339            Day            Day               Day                   Day  \n",
       "2845340            Day            Day               Day                   Day  \n",
       "2845341            Day            Day               Day                   Day  \n",
       "\n",
       "[2845342 rows x 47 columns]"
      ]
     },
     "execution_count": 4,
     "metadata": {},
     "output_type": "execute_result"
    }
   ],
   "source": [
    "data"
   ]
  },
  {
   "cell_type": "code",
   "execution_count": 20,
   "id": "84b36088",
   "metadata": {},
   "outputs": [],
   "source": [
    "# Data preparation and cleaning-Look at some information about the data and the columns\n",
    "#                              -Fix any missing or incorrect values"
   ]
  },
  {
   "cell_type": "code",
   "execution_count": 7,
   "id": "c9220c43",
   "metadata": {},
   "outputs": [
    {
     "data": {
      "text/plain": [
       "Index(['ID', 'Severity', 'Start_Time', 'End_Time', 'Start_Lat', 'Start_Lng',\n",
       "       'End_Lat', 'End_Lng', 'Distance(mi)', 'Description', 'Number', 'Street',\n",
       "       'Side', 'City', 'County', 'State', 'Zipcode', 'Country', 'Timezone',\n",
       "       'Airport_Code', 'Weather_Timestamp', 'Temperature(F)', 'Wind_Chill(F)',\n",
       "       'Humidity(%)', 'Pressure(in)', 'Visibility(mi)', 'Wind_Direction',\n",
       "       'Wind_Speed(mph)', 'Precipitation(in)', 'Weather_Condition', 'Amenity',\n",
       "       'Bump', 'Crossing', 'Give_Way', 'Junction', 'No_Exit', 'Railway',\n",
       "       'Roundabout', 'Station', 'Stop', 'Traffic_Calming', 'Traffic_Signal',\n",
       "       'Turning_Loop', 'Sunrise_Sunset', 'Civil_Twilight', 'Nautical_Twilight',\n",
       "       'Astronomical_Twilight'],\n",
       "      dtype='object')"
      ]
     },
     "execution_count": 7,
     "metadata": {},
     "output_type": "execute_result"
    }
   ],
   "source": [
    "data.columns"
   ]
  },
  {
   "cell_type": "code",
   "execution_count": 50,
   "id": "3a456ac7",
   "metadata": {},
   "outputs": [
    {
     "data": {
      "text/plain": [
       "47"
      ]
     },
     "execution_count": 50,
     "metadata": {},
     "output_type": "execute_result"
    }
   ],
   "source": [
    "#No of columns\n",
    "len(data.columns)"
   ]
  },
  {
   "cell_type": "code",
   "execution_count": 51,
   "id": "21e81652",
   "metadata": {},
   "outputs": [
    {
     "data": {
      "text/plain": [
       "2845342"
      ]
     },
     "execution_count": 51,
     "metadata": {},
     "output_type": "execute_result"
    }
   ],
   "source": [
    "#No of rows\n",
    "len(data)"
   ]
  },
  {
   "cell_type": "code",
   "execution_count": 15,
   "id": "7ca18b61",
   "metadata": {},
   "outputs": [
    {
     "name": "stdout",
     "output_type": "stream",
     "text": [
      "<class 'pandas.core.frame.DataFrame'>\n",
      "RangeIndex: 2845342 entries, 0 to 2845341\n",
      "Data columns (total 47 columns):\n",
      " #   Column                 Dtype  \n",
      "---  ------                 -----  \n",
      " 0   ID                     object \n",
      " 1   Severity               int64  \n",
      " 2   Start_Time             object \n",
      " 3   End_Time               object \n",
      " 4   Start_Lat              float64\n",
      " 5   Start_Lng              float64\n",
      " 6   End_Lat                float64\n",
      " 7   End_Lng                float64\n",
      " 8   Distance(mi)           float64\n",
      " 9   Description            object \n",
      " 10  Number                 float64\n",
      " 11  Street                 object \n",
      " 12  Side                   object \n",
      " 13  City                   object \n",
      " 14  County                 object \n",
      " 15  State                  object \n",
      " 16  Zipcode                object \n",
      " 17  Country                object \n",
      " 18  Timezone               object \n",
      " 19  Airport_Code           object \n",
      " 20  Weather_Timestamp      object \n",
      " 21  Temperature(F)         float64\n",
      " 22  Wind_Chill(F)          float64\n",
      " 23  Humidity(%)            float64\n",
      " 24  Pressure(in)           float64\n",
      " 25  Visibility(mi)         float64\n",
      " 26  Wind_Direction         object \n",
      " 27  Wind_Speed(mph)        float64\n",
      " 28  Precipitation(in)      float64\n",
      " 29  Weather_Condition      object \n",
      " 30  Amenity                bool   \n",
      " 31  Bump                   bool   \n",
      " 32  Crossing               bool   \n",
      " 33  Give_Way               bool   \n",
      " 34  Junction               bool   \n",
      " 35  No_Exit                bool   \n",
      " 36  Railway                bool   \n",
      " 37  Roundabout             bool   \n",
      " 38  Station                bool   \n",
      " 39  Stop                   bool   \n",
      " 40  Traffic_Calming        bool   \n",
      " 41  Traffic_Signal         bool   \n",
      " 42  Turning_Loop           bool   \n",
      " 43  Sunrise_Sunset         object \n",
      " 44  Civil_Twilight         object \n",
      " 45  Nautical_Twilight      object \n",
      " 46  Astronomical_Twilight  object \n",
      "dtypes: bool(13), float64(13), int64(1), object(20)\n",
      "memory usage: 773.4+ MB\n"
     ]
    }
   ],
   "source": [
    "data.info()"
   ]
  },
  {
   "cell_type": "code",
   "execution_count": 16,
   "id": "d1425677",
   "metadata": {},
   "outputs": [
    {
     "data": {
      "text/html": [
       "<div>\n",
       "<style scoped>\n",
       "    .dataframe tbody tr th:only-of-type {\n",
       "        vertical-align: middle;\n",
       "    }\n",
       "\n",
       "    .dataframe tbody tr th {\n",
       "        vertical-align: top;\n",
       "    }\n",
       "\n",
       "    .dataframe thead th {\n",
       "        text-align: right;\n",
       "    }\n",
       "</style>\n",
       "<table border=\"1\" class=\"dataframe\">\n",
       "  <thead>\n",
       "    <tr style=\"text-align: right;\">\n",
       "      <th></th>\n",
       "      <th>Severity</th>\n",
       "      <th>Start_Lat</th>\n",
       "      <th>Start_Lng</th>\n",
       "      <th>End_Lat</th>\n",
       "      <th>End_Lng</th>\n",
       "      <th>Distance(mi)</th>\n",
       "      <th>Number</th>\n",
       "      <th>Temperature(F)</th>\n",
       "      <th>Wind_Chill(F)</th>\n",
       "      <th>Humidity(%)</th>\n",
       "      <th>Pressure(in)</th>\n",
       "      <th>Visibility(mi)</th>\n",
       "      <th>Wind_Speed(mph)</th>\n",
       "      <th>Precipitation(in)</th>\n",
       "    </tr>\n",
       "  </thead>\n",
       "  <tbody>\n",
       "    <tr>\n",
       "      <th>count</th>\n",
       "      <td>2.845342e+06</td>\n",
       "      <td>2.845342e+06</td>\n",
       "      <td>2.845342e+06</td>\n",
       "      <td>2.845342e+06</td>\n",
       "      <td>2.845342e+06</td>\n",
       "      <td>2.845342e+06</td>\n",
       "      <td>1.101431e+06</td>\n",
       "      <td>2.776068e+06</td>\n",
       "      <td>2.375699e+06</td>\n",
       "      <td>2.772250e+06</td>\n",
       "      <td>2.786142e+06</td>\n",
       "      <td>2.774796e+06</td>\n",
       "      <td>2.687398e+06</td>\n",
       "      <td>2.295884e+06</td>\n",
       "    </tr>\n",
       "    <tr>\n",
       "      <th>mean</th>\n",
       "      <td>2.137572e+00</td>\n",
       "      <td>3.624520e+01</td>\n",
       "      <td>-9.711463e+01</td>\n",
       "      <td>3.624532e+01</td>\n",
       "      <td>-9.711439e+01</td>\n",
       "      <td>7.026779e-01</td>\n",
       "      <td>8.089408e+03</td>\n",
       "      <td>6.179356e+01</td>\n",
       "      <td>5.965823e+01</td>\n",
       "      <td>6.436545e+01</td>\n",
       "      <td>2.947234e+01</td>\n",
       "      <td>9.099391e+00</td>\n",
       "      <td>7.395044e+00</td>\n",
       "      <td>7.016940e-03</td>\n",
       "    </tr>\n",
       "    <tr>\n",
       "      <th>std</th>\n",
       "      <td>4.787216e-01</td>\n",
       "      <td>5.363797e+00</td>\n",
       "      <td>1.831782e+01</td>\n",
       "      <td>5.363873e+00</td>\n",
       "      <td>1.831763e+01</td>\n",
       "      <td>1.560361e+00</td>\n",
       "      <td>1.836009e+04</td>\n",
       "      <td>1.862263e+01</td>\n",
       "      <td>2.116097e+01</td>\n",
       "      <td>2.287457e+01</td>\n",
       "      <td>1.045286e+00</td>\n",
       "      <td>2.717546e+00</td>\n",
       "      <td>5.527454e+00</td>\n",
       "      <td>9.348831e-02</td>\n",
       "    </tr>\n",
       "    <tr>\n",
       "      <th>min</th>\n",
       "      <td>1.000000e+00</td>\n",
       "      <td>2.456603e+01</td>\n",
       "      <td>-1.245481e+02</td>\n",
       "      <td>2.456601e+01</td>\n",
       "      <td>-1.245457e+02</td>\n",
       "      <td>0.000000e+00</td>\n",
       "      <td>0.000000e+00</td>\n",
       "      <td>-8.900000e+01</td>\n",
       "      <td>-8.900000e+01</td>\n",
       "      <td>1.000000e+00</td>\n",
       "      <td>0.000000e+00</td>\n",
       "      <td>0.000000e+00</td>\n",
       "      <td>0.000000e+00</td>\n",
       "      <td>0.000000e+00</td>\n",
       "    </tr>\n",
       "    <tr>\n",
       "      <th>25%</th>\n",
       "      <td>2.000000e+00</td>\n",
       "      <td>3.344517e+01</td>\n",
       "      <td>-1.180331e+02</td>\n",
       "      <td>3.344628e+01</td>\n",
       "      <td>-1.180333e+02</td>\n",
       "      <td>5.200000e-02</td>\n",
       "      <td>1.270000e+03</td>\n",
       "      <td>5.000000e+01</td>\n",
       "      <td>4.600000e+01</td>\n",
       "      <td>4.800000e+01</td>\n",
       "      <td>2.931000e+01</td>\n",
       "      <td>1.000000e+01</td>\n",
       "      <td>3.500000e+00</td>\n",
       "      <td>0.000000e+00</td>\n",
       "    </tr>\n",
       "    <tr>\n",
       "      <th>50%</th>\n",
       "      <td>2.000000e+00</td>\n",
       "      <td>3.609861e+01</td>\n",
       "      <td>-9.241808e+01</td>\n",
       "      <td>3.609799e+01</td>\n",
       "      <td>-9.241772e+01</td>\n",
       "      <td>2.440000e-01</td>\n",
       "      <td>4.007000e+03</td>\n",
       "      <td>6.400000e+01</td>\n",
       "      <td>6.300000e+01</td>\n",
       "      <td>6.700000e+01</td>\n",
       "      <td>2.982000e+01</td>\n",
       "      <td>1.000000e+01</td>\n",
       "      <td>7.000000e+00</td>\n",
       "      <td>0.000000e+00</td>\n",
       "    </tr>\n",
       "    <tr>\n",
       "      <th>75%</th>\n",
       "      <td>2.000000e+00</td>\n",
       "      <td>4.016024e+01</td>\n",
       "      <td>-8.037243e+01</td>\n",
       "      <td>4.016105e+01</td>\n",
       "      <td>-8.037338e+01</td>\n",
       "      <td>7.640000e-01</td>\n",
       "      <td>9.567000e+03</td>\n",
       "      <td>7.600000e+01</td>\n",
       "      <td>7.600000e+01</td>\n",
       "      <td>8.300000e+01</td>\n",
       "      <td>3.001000e+01</td>\n",
       "      <td>1.000000e+01</td>\n",
       "      <td>1.000000e+01</td>\n",
       "      <td>0.000000e+00</td>\n",
       "    </tr>\n",
       "    <tr>\n",
       "      <th>max</th>\n",
       "      <td>4.000000e+00</td>\n",
       "      <td>4.900058e+01</td>\n",
       "      <td>-6.711317e+01</td>\n",
       "      <td>4.907500e+01</td>\n",
       "      <td>-6.710924e+01</td>\n",
       "      <td>1.551860e+02</td>\n",
       "      <td>9.999997e+06</td>\n",
       "      <td>1.960000e+02</td>\n",
       "      <td>1.960000e+02</td>\n",
       "      <td>1.000000e+02</td>\n",
       "      <td>5.890000e+01</td>\n",
       "      <td>1.400000e+02</td>\n",
       "      <td>1.087000e+03</td>\n",
       "      <td>2.400000e+01</td>\n",
       "    </tr>\n",
       "  </tbody>\n",
       "</table>\n",
       "</div>"
      ],
      "text/plain": [
       "           Severity     Start_Lat     Start_Lng       End_Lat       End_Lng  \\\n",
       "count  2.845342e+06  2.845342e+06  2.845342e+06  2.845342e+06  2.845342e+06   \n",
       "mean   2.137572e+00  3.624520e+01 -9.711463e+01  3.624532e+01 -9.711439e+01   \n",
       "std    4.787216e-01  5.363797e+00  1.831782e+01  5.363873e+00  1.831763e+01   \n",
       "min    1.000000e+00  2.456603e+01 -1.245481e+02  2.456601e+01 -1.245457e+02   \n",
       "25%    2.000000e+00  3.344517e+01 -1.180331e+02  3.344628e+01 -1.180333e+02   \n",
       "50%    2.000000e+00  3.609861e+01 -9.241808e+01  3.609799e+01 -9.241772e+01   \n",
       "75%    2.000000e+00  4.016024e+01 -8.037243e+01  4.016105e+01 -8.037338e+01   \n",
       "max    4.000000e+00  4.900058e+01 -6.711317e+01  4.907500e+01 -6.710924e+01   \n",
       "\n",
       "       Distance(mi)        Number  Temperature(F)  Wind_Chill(F)  \\\n",
       "count  2.845342e+06  1.101431e+06    2.776068e+06   2.375699e+06   \n",
       "mean   7.026779e-01  8.089408e+03    6.179356e+01   5.965823e+01   \n",
       "std    1.560361e+00  1.836009e+04    1.862263e+01   2.116097e+01   \n",
       "min    0.000000e+00  0.000000e+00   -8.900000e+01  -8.900000e+01   \n",
       "25%    5.200000e-02  1.270000e+03    5.000000e+01   4.600000e+01   \n",
       "50%    2.440000e-01  4.007000e+03    6.400000e+01   6.300000e+01   \n",
       "75%    7.640000e-01  9.567000e+03    7.600000e+01   7.600000e+01   \n",
       "max    1.551860e+02  9.999997e+06    1.960000e+02   1.960000e+02   \n",
       "\n",
       "        Humidity(%)  Pressure(in)  Visibility(mi)  Wind_Speed(mph)  \\\n",
       "count  2.772250e+06  2.786142e+06    2.774796e+06     2.687398e+06   \n",
       "mean   6.436545e+01  2.947234e+01    9.099391e+00     7.395044e+00   \n",
       "std    2.287457e+01  1.045286e+00    2.717546e+00     5.527454e+00   \n",
       "min    1.000000e+00  0.000000e+00    0.000000e+00     0.000000e+00   \n",
       "25%    4.800000e+01  2.931000e+01    1.000000e+01     3.500000e+00   \n",
       "50%    6.700000e+01  2.982000e+01    1.000000e+01     7.000000e+00   \n",
       "75%    8.300000e+01  3.001000e+01    1.000000e+01     1.000000e+01   \n",
       "max    1.000000e+02  5.890000e+01    1.400000e+02     1.087000e+03   \n",
       "\n",
       "       Precipitation(in)  \n",
       "count       2.295884e+06  \n",
       "mean        7.016940e-03  \n",
       "std         9.348831e-02  \n",
       "min         0.000000e+00  \n",
       "25%         0.000000e+00  \n",
       "50%         0.000000e+00  \n",
       "75%         0.000000e+00  \n",
       "max         2.400000e+01  "
      ]
     },
     "execution_count": 16,
     "metadata": {},
     "output_type": "execute_result"
    }
   ],
   "source": [
    "data.describe()"
   ]
  },
  {
   "cell_type": "markdown",
   "id": "8013dac5",
   "metadata": {},
   "source": [
    "#Questions\n",
    "1) Are there more accidents in warmer or colder areas?\n",
    "2) Which 5 states have highest number of accidents? \n",
    "4) Among the top 100 cities of accidents,which states do they belong to most frequently?\n",
    "5) What time of the day have accidents occured more frequently?\n",
    "6) Which days of the week has the most accidents?\n",
    "7) Which month has the most accidents?\n",
    "8) What is the trend of accidents year over year(increasing/decreasing)\n",
    "9) Is the distribution of accidents by hour the same on weekends as on weekdays.\n",
    "10) List out the top 10 cities having highest accidents?\n",
    "11) Find the number of cases for each timezone.\n",
    "12) Which year has the highest number of cases?"
   ]
  },
  {
   "cell_type": "code",
   "execution_count": 42,
   "id": "f88f8816",
   "metadata": {},
   "outputs": [
    {
     "data": {
      "text/plain": [
       "14"
      ]
     },
     "execution_count": 42,
     "metadata": {},
     "output_type": "execute_result"
    }
   ],
   "source": [
    "#No of numeric datas \n",
    "numerics=['int16','int32','int64','float16','float32','float64']\n",
    "numeric_data=data.select_dtypes(include=numerics)\n",
    "len(numeric_data.columns)"
   ]
  },
  {
   "cell_type": "code",
   "execution_count": 22,
   "id": "9bd43015",
   "metadata": {},
   "outputs": [
    {
     "data": {
      "text/plain": [
       "Number                   1743911\n",
       "Precipitation(in)         549458\n",
       "Wind_Chill(F)             469643\n",
       "Wind_Speed(mph)           157944\n",
       "Wind_Direction             73775\n",
       "Humidity(%)                73092\n",
       "Weather_Condition          70636\n",
       "Visibility(mi)             70546\n",
       "Temperature(F)             69274\n",
       "Pressure(in)               59200\n",
       "Weather_Timestamp          50736\n",
       "Airport_Code                9549\n",
       "Timezone                    3659\n",
       "Nautical_Twilight           2867\n",
       "Civil_Twilight              2867\n",
       "Sunrise_Sunset              2867\n",
       "Astronomical_Twilight       2867\n",
       "Zipcode                     1319\n",
       "City                         137\n",
       "Street                         2\n",
       "Country                        0\n",
       "Junction                       0\n",
       "Start_Time                     0\n",
       "End_Time                       0\n",
       "Start_Lat                      0\n",
       "Turning_Loop                   0\n",
       "Traffic_Signal                 0\n",
       "Traffic_Calming                0\n",
       "Stop                           0\n",
       "Station                        0\n",
       "Roundabout                     0\n",
       "Railway                        0\n",
       "No_Exit                        0\n",
       "Crossing                       0\n",
       "Give_Way                       0\n",
       "Bump                           0\n",
       "Amenity                        0\n",
       "Start_Lng                      0\n",
       "End_Lat                        0\n",
       "End_Lng                        0\n",
       "Distance(mi)                   0\n",
       "Description                    0\n",
       "Severity                       0\n",
       "Side                           0\n",
       "County                         0\n",
       "State                          0\n",
       "ID                             0\n",
       "dtype: int64"
      ]
     },
     "execution_count": 22,
     "metadata": {},
     "output_type": "execute_result"
    }
   ],
   "source": [
    "# Missing values\n",
    "data.isna().sum().sort_values(ascending=False)"
   ]
  },
  {
   "cell_type": "code",
   "execution_count": 45,
   "id": "93dd2a73",
   "metadata": {},
   "outputs": [
    {
     "data": {
      "text/plain": [
       "Wind_Direction           2.592834e-02\n",
       "Weather_Condition        2.482514e-02\n",
       "Weather_Timestamp        1.783125e-02\n",
       "Airport_Code             3.356011e-03\n",
       "Timezone                 1.285961e-03\n",
       "Astronomical_Twilight    1.007612e-03\n",
       "Sunrise_Sunset           1.007612e-03\n",
       "Nautical_Twilight        1.007612e-03\n",
       "Civil_Twilight           1.007612e-03\n",
       "Zipcode                  4.635647e-04\n",
       "City                     4.814887e-05\n",
       "Street                   7.029032e-07\n",
       "Railway                  0.000000e+00\n",
       "Wind_Speed(mph)          0.000000e+00\n",
       "No_Exit                  0.000000e+00\n",
       "Junction                 0.000000e+00\n",
       "Traffic_Calming          0.000000e+00\n",
       "Give_Way                 0.000000e+00\n",
       "Turning_Loop             0.000000e+00\n",
       "Roundabout               0.000000e+00\n",
       "Station                  0.000000e+00\n",
       "Crossing                 0.000000e+00\n",
       "Bump                     0.000000e+00\n",
       "Amenity                  0.000000e+00\n",
       "Stop                     0.000000e+00\n",
       "Precipitation(in)        0.000000e+00\n",
       "Traffic_Signal           0.000000e+00\n",
       "ID                       0.000000e+00\n",
       "Visibility(mi)           0.000000e+00\n",
       "Description              0.000000e+00\n",
       "Start_Time               0.000000e+00\n",
       "End_Time                 0.000000e+00\n",
       "Start_Lat                0.000000e+00\n",
       "Start_Lng                0.000000e+00\n",
       "End_Lat                  0.000000e+00\n",
       "End_Lng                  0.000000e+00\n",
       "Distance(mi)             0.000000e+00\n",
       "Number                   0.000000e+00\n",
       "Pressure(in)             0.000000e+00\n",
       "Side                     0.000000e+00\n",
       "County                   0.000000e+00\n",
       "State                    0.000000e+00\n",
       "Country                  0.000000e+00\n",
       "Temperature(F)           0.000000e+00\n",
       "Wind_Chill(F)            0.000000e+00\n",
       "Severity                 0.000000e+00\n",
       "Humidity(%)              0.000000e+00\n",
       "dtype: float64"
      ]
     },
     "execution_count": 45,
     "metadata": {},
     "output_type": "execute_result"
    }
   ],
   "source": [
    "#Find the % of missing values\n",
    "missing_percentages=data.isna().sum().sort_values(ascending=False)/len(data)\n",
    "missing_percentages"
   ]
  },
  {
   "cell_type": "code",
   "execution_count": 32,
   "id": "35d4bda7",
   "metadata": {},
   "outputs": [
    {
     "data": {
      "text/plain": [
       "<AxesSubplot:>"
      ]
     },
     "execution_count": 32,
     "metadata": {},
     "output_type": "execute_result"
    },
    {
     "data": {
      "image/png": "[encoded data removed]",
      "text/plain": [
       "<Figure size 432x288 with 1 Axes>"
      ]
     },
     "metadata": {
      "needs_background": "light"
     },
     "output_type": "display_data"
    }
   ],
   "source": [
    "#plotting bar chart for missing percentage\n",
    "missing_percentages[missing_percentages!=0].plot(kind='bar')"
   ]
  },
  {
   "cell_type": "code",
   "execution_count": 52,
   "id": "e8915bc3",
   "metadata": {},
   "outputs": [
    {
     "data": {
      "text/html": [
       "<div>\n",
       "<style scoped>\n",
       "    .dataframe tbody tr th:only-of-type {\n",
       "        vertical-align: middle;\n",
       "    }\n",
       "\n",
       "    .dataframe tbody tr th {\n",
       "        vertical-align: top;\n",
       "    }\n",
       "\n",
       "    .dataframe thead th {\n",
       "        text-align: right;\n",
       "    }\n",
       "</style>\n",
       "<table border=\"1\" class=\"dataframe\">\n",
       "  <thead>\n",
       "    <tr style=\"text-align: right;\">\n",
       "      <th></th>\n",
       "      <th>ID</th>\n",
       "      <th>Severity</th>\n",
       "      <th>Start_Time</th>\n",
       "      <th>End_Time</th>\n",
       "      <th>Start_Lat</th>\n",
       "      <th>Start_Lng</th>\n",
       "      <th>End_Lat</th>\n",
       "      <th>End_Lng</th>\n",
       "      <th>Distance(mi)</th>\n",
       "      <th>Description</th>\n",
       "      <th>...</th>\n",
       "      <th>Roundabout</th>\n",
       "      <th>Station</th>\n",
       "      <th>Stop</th>\n",
       "      <th>Traffic_Calming</th>\n",
       "      <th>Traffic_Signal</th>\n",
       "      <th>Turning_Loop</th>\n",
       "      <th>Sunrise_Sunset</th>\n",
       "      <th>Civil_Twilight</th>\n",
       "      <th>Nautical_Twilight</th>\n",
       "      <th>Astronomical_Twilight</th>\n",
       "    </tr>\n",
       "  </thead>\n",
       "  <tbody>\n",
       "    <tr>\n",
       "      <th>0</th>\n",
       "      <td>A-1</td>\n",
       "      <td>3</td>\n",
       "      <td>2016-02-08 00:37:08</td>\n",
       "      <td>2016-02-08 06:37:08</td>\n",
       "      <td>40.108910</td>\n",
       "      <td>-83.092860</td>\n",
       "      <td>40.112060</td>\n",
       "      <td>-83.031870</td>\n",
       "      <td>3.230</td>\n",
       "      <td>Between Sawmill Rd/Exit 20 and OH-315/Olentang...</td>\n",
       "      <td>...</td>\n",
       "      <td>False</td>\n",
       "      <td>False</td>\n",
       "      <td>False</td>\n",
       "      <td>False</td>\n",
       "      <td>False</td>\n",
       "      <td>False</td>\n",
       "      <td>Night</td>\n",
       "      <td>Night</td>\n",
       "      <td>Night</td>\n",
       "      <td>Night</td>\n",
       "    </tr>\n",
       "    <tr>\n",
       "      <th>1</th>\n",
       "      <td>A-2</td>\n",
       "      <td>2</td>\n",
       "      <td>2016-02-08 05:56:20</td>\n",
       "      <td>2016-02-08 11:56:20</td>\n",
       "      <td>39.865420</td>\n",
       "      <td>-84.062800</td>\n",
       "      <td>39.865010</td>\n",
       "      <td>-84.048730</td>\n",
       "      <td>0.747</td>\n",
       "      <td>At OH-4/OH-235/Exit 41 - Accident.</td>\n",
       "      <td>...</td>\n",
       "      <td>False</td>\n",
       "      <td>False</td>\n",
       "      <td>False</td>\n",
       "      <td>False</td>\n",
       "      <td>False</td>\n",
       "      <td>False</td>\n",
       "      <td>Night</td>\n",
       "      <td>Night</td>\n",
       "      <td>Night</td>\n",
       "      <td>Night</td>\n",
       "    </tr>\n",
       "    <tr>\n",
       "      <th>2</th>\n",
       "      <td>A-3</td>\n",
       "      <td>2</td>\n",
       "      <td>2016-02-08 06:15:39</td>\n",
       "      <td>2016-02-08 12:15:39</td>\n",
       "      <td>39.102660</td>\n",
       "      <td>-84.524680</td>\n",
       "      <td>39.102090</td>\n",
       "      <td>-84.523960</td>\n",
       "      <td>0.055</td>\n",
       "      <td>At I-71/US-50/Exit 1 - Accident.</td>\n",
       "      <td>...</td>\n",
       "      <td>False</td>\n",
       "      <td>False</td>\n",
       "      <td>False</td>\n",
       "      <td>False</td>\n",
       "      <td>False</td>\n",
       "      <td>False</td>\n",
       "      <td>Night</td>\n",
       "      <td>Night</td>\n",
       "      <td>Night</td>\n",
       "      <td>Day</td>\n",
       "    </tr>\n",
       "    <tr>\n",
       "      <th>3</th>\n",
       "      <td>A-4</td>\n",
       "      <td>2</td>\n",
       "      <td>2016-02-08 06:51:45</td>\n",
       "      <td>2016-02-08 12:51:45</td>\n",
       "      <td>41.062130</td>\n",
       "      <td>-81.537840</td>\n",
       "      <td>41.062170</td>\n",
       "      <td>-81.535470</td>\n",
       "      <td>0.123</td>\n",
       "      <td>At Dart Ave/Exit 21 - Accident.</td>\n",
       "      <td>...</td>\n",
       "      <td>False</td>\n",
       "      <td>False</td>\n",
       "      <td>False</td>\n",
       "      <td>False</td>\n",
       "      <td>False</td>\n",
       "      <td>False</td>\n",
       "      <td>Night</td>\n",
       "      <td>Night</td>\n",
       "      <td>Day</td>\n",
       "      <td>Day</td>\n",
       "    </tr>\n",
       "    <tr>\n",
       "      <th>4</th>\n",
       "      <td>A-5</td>\n",
       "      <td>3</td>\n",
       "      <td>2016-02-08 07:53:43</td>\n",
       "      <td>2016-02-08 13:53:43</td>\n",
       "      <td>39.172393</td>\n",
       "      <td>-84.492792</td>\n",
       "      <td>39.170476</td>\n",
       "      <td>-84.501798</td>\n",
       "      <td>0.500</td>\n",
       "      <td>At Mitchell Ave/Exit 6 - Accident.</td>\n",
       "      <td>...</td>\n",
       "      <td>False</td>\n",
       "      <td>False</td>\n",
       "      <td>False</td>\n",
       "      <td>False</td>\n",
       "      <td>False</td>\n",
       "      <td>False</td>\n",
       "      <td>Day</td>\n",
       "      <td>Day</td>\n",
       "      <td>Day</td>\n",
       "      <td>Day</td>\n",
       "    </tr>\n",
       "    <tr>\n",
       "      <th>...</th>\n",
       "      <td>...</td>\n",
       "      <td>...</td>\n",
       "      <td>...</td>\n",
       "      <td>...</td>\n",
       "      <td>...</td>\n",
       "      <td>...</td>\n",
       "      <td>...</td>\n",
       "      <td>...</td>\n",
       "      <td>...</td>\n",
       "      <td>...</td>\n",
       "      <td>...</td>\n",
       "      <td>...</td>\n",
       "      <td>...</td>\n",
       "      <td>...</td>\n",
       "      <td>...</td>\n",
       "      <td>...</td>\n",
       "      <td>...</td>\n",
       "      <td>...</td>\n",
       "      <td>...</td>\n",
       "      <td>...</td>\n",
       "      <td>...</td>\n",
       "    </tr>\n",
       "    <tr>\n",
       "      <th>2845337</th>\n",
       "      <td>A-2845338</td>\n",
       "      <td>2</td>\n",
       "      <td>2019-08-23 18:03:25</td>\n",
       "      <td>2019-08-23 18:32:01</td>\n",
       "      <td>34.002480</td>\n",
       "      <td>-117.379360</td>\n",
       "      <td>33.998880</td>\n",
       "      <td>-117.370940</td>\n",
       "      <td>0.543</td>\n",
       "      <td>At Market St - Accident.</td>\n",
       "      <td>...</td>\n",
       "      <td>False</td>\n",
       "      <td>False</td>\n",
       "      <td>False</td>\n",
       "      <td>False</td>\n",
       "      <td>False</td>\n",
       "      <td>False</td>\n",
       "      <td>Day</td>\n",
       "      <td>Day</td>\n",
       "      <td>Day</td>\n",
       "      <td>Day</td>\n",
       "    </tr>\n",
       "    <tr>\n",
       "      <th>2845338</th>\n",
       "      <td>A-2845339</td>\n",
       "      <td>2</td>\n",
       "      <td>2019-08-23 19:11:30</td>\n",
       "      <td>2019-08-23 19:38:23</td>\n",
       "      <td>32.766960</td>\n",
       "      <td>-117.148060</td>\n",
       "      <td>32.765550</td>\n",
       "      <td>-117.153630</td>\n",
       "      <td>0.338</td>\n",
       "      <td>At Camino Del Rio/Mission Center Rd - Accident.</td>\n",
       "      <td>...</td>\n",
       "      <td>False</td>\n",
       "      <td>False</td>\n",
       "      <td>False</td>\n",
       "      <td>False</td>\n",
       "      <td>False</td>\n",
       "      <td>False</td>\n",
       "      <td>Day</td>\n",
       "      <td>Day</td>\n",
       "      <td>Day</td>\n",
       "      <td>Day</td>\n",
       "    </tr>\n",
       "    <tr>\n",
       "      <th>2845339</th>\n",
       "      <td>A-2845340</td>\n",
       "      <td>2</td>\n",
       "      <td>2019-08-23 19:00:21</td>\n",
       "      <td>2019-08-23 19:28:49</td>\n",
       "      <td>33.775450</td>\n",
       "      <td>-117.847790</td>\n",
       "      <td>33.777400</td>\n",
       "      <td>-117.857270</td>\n",
       "      <td>0.561</td>\n",
       "      <td>At Glassell St/Grand Ave - Accident. in the ri...</td>\n",
       "      <td>...</td>\n",
       "      <td>False</td>\n",
       "      <td>False</td>\n",
       "      <td>False</td>\n",
       "      <td>False</td>\n",
       "      <td>False</td>\n",
       "      <td>False</td>\n",
       "      <td>Day</td>\n",
       "      <td>Day</td>\n",
       "      <td>Day</td>\n",
       "      <td>Day</td>\n",
       "    </tr>\n",
       "    <tr>\n",
       "      <th>2845340</th>\n",
       "      <td>A-2845341</td>\n",
       "      <td>2</td>\n",
       "      <td>2019-08-23 19:00:21</td>\n",
       "      <td>2019-08-23 19:29:42</td>\n",
       "      <td>33.992460</td>\n",
       "      <td>-118.403020</td>\n",
       "      <td>33.983110</td>\n",
       "      <td>-118.395650</td>\n",
       "      <td>0.772</td>\n",
       "      <td>At CA-90/Marina Fwy/Jefferson Blvd - Accident.</td>\n",
       "      <td>...</td>\n",
       "      <td>False</td>\n",
       "      <td>False</td>\n",
       "      <td>False</td>\n",
       "      <td>False</td>\n",
       "      <td>False</td>\n",
       "      <td>False</td>\n",
       "      <td>Day</td>\n",
       "      <td>Day</td>\n",
       "      <td>Day</td>\n",
       "      <td>Day</td>\n",
       "    </tr>\n",
       "    <tr>\n",
       "      <th>2845341</th>\n",
       "      <td>A-2845342</td>\n",
       "      <td>2</td>\n",
       "      <td>2019-08-23 18:52:06</td>\n",
       "      <td>2019-08-23 19:21:31</td>\n",
       "      <td>34.133930</td>\n",
       "      <td>-117.230920</td>\n",
       "      <td>34.137360</td>\n",
       "      <td>-117.239340</td>\n",
       "      <td>0.537</td>\n",
       "      <td>At Highland Ave/Arden Ave - Accident.</td>\n",
       "      <td>...</td>\n",
       "      <td>False</td>\n",
       "      <td>False</td>\n",
       "      <td>False</td>\n",
       "      <td>False</td>\n",
       "      <td>False</td>\n",
       "      <td>False</td>\n",
       "      <td>Day</td>\n",
       "      <td>Day</td>\n",
       "      <td>Day</td>\n",
       "      <td>Day</td>\n",
       "    </tr>\n",
       "  </tbody>\n",
       "</table>\n",
       "<p>2845342 rows × 47 columns</p>\n",
       "</div>"
      ],
      "text/plain": [
       "                ID  Severity          Start_Time             End_Time  \\\n",
       "0              A-1         3 2016-02-08 00:37:08  2016-02-08 06:37:08   \n",
       "1              A-2         2 2016-02-08 05:56:20  2016-02-08 11:56:20   \n",
       "2              A-3         2 2016-02-08 06:15:39  2016-02-08 12:15:39   \n",
       "3              A-4         2 2016-02-08 06:51:45  2016-02-08 12:51:45   \n",
       "4              A-5         3 2016-02-08 07:53:43  2016-02-08 13:53:43   \n",
       "...            ...       ...                 ...                  ...   \n",
       "2845337  A-2845338         2 2019-08-23 18:03:25  2019-08-23 18:32:01   \n",
       "2845338  A-2845339         2 2019-08-23 19:11:30  2019-08-23 19:38:23   \n",
       "2845339  A-2845340         2 2019-08-23 19:00:21  2019-08-23 19:28:49   \n",
       "2845340  A-2845341         2 2019-08-23 19:00:21  2019-08-23 19:29:42   \n",
       "2845341  A-2845342         2 2019-08-23 18:52:06  2019-08-23 19:21:31   \n",
       "\n",
       "         Start_Lat   Start_Lng    End_Lat     End_Lng  Distance(mi)  \\\n",
       "0        40.108910  -83.092860  40.112060  -83.031870         3.230   \n",
       "1        39.865420  -84.062800  39.865010  -84.048730         0.747   \n",
       "2        39.102660  -84.524680  39.102090  -84.523960         0.055   \n",
       "3        41.062130  -81.537840  41.062170  -81.535470         0.123   \n",
       "4        39.172393  -84.492792  39.170476  -84.501798         0.500   \n",
       "...            ...         ...        ...         ...           ...   \n",
       "2845337  34.002480 -117.379360  33.998880 -117.370940         0.543   \n",
       "2845338  32.766960 -117.148060  32.765550 -117.153630         0.338   \n",
       "2845339  33.775450 -117.847790  33.777400 -117.857270         0.561   \n",
       "2845340  33.992460 -118.403020  33.983110 -118.395650         0.772   \n",
       "2845341  34.133930 -117.230920  34.137360 -117.239340         0.537   \n",
       "\n",
       "                                               Description  ...  Roundabout  \\\n",
       "0        Between Sawmill Rd/Exit 20 and OH-315/Olentang...  ...       False   \n",
       "1                       At OH-4/OH-235/Exit 41 - Accident.  ...       False   \n",
       "2                         At I-71/US-50/Exit 1 - Accident.  ...       False   \n",
       "3                          At Dart Ave/Exit 21 - Accident.  ...       False   \n",
       "4                       At Mitchell Ave/Exit 6 - Accident.  ...       False   \n",
       "...                                                    ...  ...         ...   \n",
       "2845337                           At Market St - Accident.  ...       False   \n",
       "2845338    At Camino Del Rio/Mission Center Rd - Accident.  ...       False   \n",
       "2845339  At Glassell St/Grand Ave - Accident. in the ri...  ...       False   \n",
       "2845340     At CA-90/Marina Fwy/Jefferson Blvd - Accident.  ...       False   \n",
       "2845341              At Highland Ave/Arden Ave - Accident.  ...       False   \n",
       "\n",
       "        Station   Stop Traffic_Calming Traffic_Signal Turning_Loop  \\\n",
       "0         False  False           False          False        False   \n",
       "1         False  False           False          False        False   \n",
       "2         False  False           False          False        False   \n",
       "3         False  False           False          False        False   \n",
       "4         False  False           False          False        False   \n",
       "...         ...    ...             ...            ...          ...   \n",
       "2845337   False  False           False          False        False   \n",
       "2845338   False  False           False          False        False   \n",
       "2845339   False  False           False          False        False   \n",
       "2845340   False  False           False          False        False   \n",
       "2845341   False  False           False          False        False   \n",
       "\n",
       "        Sunrise_Sunset Civil_Twilight Nautical_Twilight Astronomical_Twilight  \n",
       "0                Night          Night             Night                 Night  \n",
       "1                Night          Night             Night                 Night  \n",
       "2                Night          Night             Night                   Day  \n",
       "3                Night          Night               Day                   Day  \n",
       "4                  Day            Day               Day                   Day  \n",
       "...                ...            ...               ...                   ...  \n",
       "2845337            Day            Day               Day                   Day  \n",
       "2845338            Day            Day               Day                   Day  \n",
       "2845339            Day            Day               Day                   Day  \n",
       "2845340            Day            Day               Day                   Day  \n",
       "2845341            Day            Day               Day                   Day  \n",
       "\n",
       "[2845342 rows x 47 columns]"
      ]
     },
     "execution_count": 52,
     "metadata": {},
     "output_type": "execute_result"
    }
   ],
   "source": [
    "#handling the missing values\n",
    "data= data.fillna(missing_percentages.median())\n",
    "data"
   ]
  },
  {
   "cell_type": "code",
   "execution_count": 49,
   "id": "ca2b8243",
   "metadata": {},
   "outputs": [
    {
     "data": {
      "text/plain": [
       "ID                       0\n",
       "Severity                 0\n",
       "Start_Time               0\n",
       "End_Time                 0\n",
       "Start_Lat                0\n",
       "Start_Lng                0\n",
       "End_Lat                  0\n",
       "End_Lng                  0\n",
       "Distance(mi)             0\n",
       "Description              0\n",
       "Number                   0\n",
       "Street                   0\n",
       "Side                     0\n",
       "City                     0\n",
       "County                   0\n",
       "State                    0\n",
       "Zipcode                  0\n",
       "Country                  0\n",
       "Timezone                 0\n",
       "Airport_Code             0\n",
       "Weather_Timestamp        0\n",
       "Temperature(F)           0\n",
       "Wind_Chill(F)            0\n",
       "Humidity(%)              0\n",
       "Pressure(in)             0\n",
       "Visibility(mi)           0\n",
       "Wind_Direction           0\n",
       "Wind_Speed(mph)          0\n",
       "Precipitation(in)        0\n",
       "Weather_Condition        0\n",
       "Amenity                  0\n",
       "Bump                     0\n",
       "Crossing                 0\n",
       "Give_Way                 0\n",
       "Junction                 0\n",
       "No_Exit                  0\n",
       "Railway                  0\n",
       "Roundabout               0\n",
       "Station                  0\n",
       "Stop                     0\n",
       "Traffic_Calming          0\n",
       "Traffic_Signal           0\n",
       "Turning_Loop             0\n",
       "Sunrise_Sunset           0\n",
       "Civil_Twilight           0\n",
       "Nautical_Twilight        0\n",
       "Astronomical_Twilight    0\n",
       "dtype: int64"
      ]
     },
     "execution_count": 49,
     "metadata": {},
     "output_type": "execute_result"
    }
   ],
   "source": [
    "data.isnull().sum()"
   ]
  },
  {
   "cell_type": "code",
   "execution_count": null,
   "id": "23013836",
   "metadata": {},
   "outputs": [],
   "source": [
    "# Since there is a whole lot of columns we will be focussing majorly on the below mentioned columns\n",
    "columns we will analyse\n",
    "1)city\n",
    "2)start time\n",
    "3)start lat,start lng\n",
    "4)temperature\n",
    "5)weather condition\n",
    "6)timezone\n",
    "7)street"
   ]
  },
  {
   "cell_type": "code",
   "execution_count": 42,
   "id": "d2b6f80e",
   "metadata": {},
   "outputs": [
    {
     "data": {
      "text/plain": [
       "11681"
      ]
     },
     "execution_count": 42,
     "metadata": {},
     "output_type": "execute_result"
    }
   ],
   "source": [
    "data.City.nunique()"
   ]
  },
  {
   "cell_type": "code",
   "execution_count": 43,
   "id": "3f28ab2f",
   "metadata": {},
   "outputs": [
    {
     "data": {
      "text/plain": [
       "array(['Dublin', 'Dayton', 'Cincinnati', ..., 'Clarksdale', 'Bridgeboro',\n",
       "       'American Fork-Pleasant Grove'], dtype=object)"
      ]
     },
     "execution_count": 43,
     "metadata": {},
     "output_type": "execute_result"
    }
   ],
   "source": [
    "data.City.unique()"
   ]
  },
  {
   "cell_type": "code",
   "execution_count": 53,
   "id": "2b0e93f2",
   "metadata": {},
   "outputs": [
    {
     "data": {
      "text/html": [
       "<div>\n",
       "<style scoped>\n",
       "    .dataframe tbody tr th:only-of-type {\n",
       "        vertical-align: middle;\n",
       "    }\n",
       "\n",
       "    .dataframe tbody tr th {\n",
       "        vertical-align: top;\n",
       "    }\n",
       "\n",
       "    .dataframe thead th {\n",
       "        text-align: right;\n",
       "    }\n",
       "</style>\n",
       "<table border=\"1\" class=\"dataframe\">\n",
       "  <thead>\n",
       "    <tr style=\"text-align: right;\">\n",
       "      <th></th>\n",
       "      <th>Timezone</th>\n",
       "      <th>Cases</th>\n",
       "    </tr>\n",
       "  </thead>\n",
       "  <tbody>\n",
       "    <tr>\n",
       "      <th>0</th>\n",
       "      <td>US/Eastern</td>\n",
       "      <td>1221927</td>\n",
       "    </tr>\n",
       "    <tr>\n",
       "      <th>1</th>\n",
       "      <td>US/Pacific</td>\n",
       "      <td>967094</td>\n",
       "    </tr>\n",
       "    <tr>\n",
       "      <th>2</th>\n",
       "      <td>US/Central</td>\n",
       "      <td>488065</td>\n",
       "    </tr>\n",
       "    <tr>\n",
       "      <th>3</th>\n",
       "      <td>US/Mountain</td>\n",
       "      <td>164597</td>\n",
       "    </tr>\n",
       "    <tr>\n",
       "      <th>4</th>\n",
       "      <td>0.0</td>\n",
       "      <td>3659</td>\n",
       "    </tr>\n",
       "  </tbody>\n",
       "</table>\n",
       "</div>"
      ],
      "text/plain": [
       "      Timezone    Cases\n",
       "0   US/Eastern  1221927\n",
       "1   US/Pacific   967094\n",
       "2   US/Central   488065\n",
       "3  US/Mountain   164597\n",
       "4          0.0     3659"
      ]
     },
     "execution_count": 53,
     "metadata": {},
     "output_type": "execute_result"
    }
   ],
   "source": [
    "#accidents according to time zone\n",
    "timezone_df = pd.DataFrame(data['Timezone'].value_counts()).reset_index().rename(columns={'index':'Timezone', 'Timezone':'Cases'})\n",
    "timezone_df"
   ]
  },
  {
   "cell_type": "code",
   "execution_count": null,
   "id": "423ec3c6",
   "metadata": {},
   "outputs": [],
   "source": [
    "#observation: US/Eastern has the highest number of accidents"
   ]
  },
  {
   "cell_type": "code",
   "execution_count": 54,
   "id": "d836e4a4",
   "metadata": {},
   "outputs": [
    {
     "data": {
      "text/html": [
       "<div>\n",
       "<style scoped>\n",
       "    .dataframe tbody tr th:only-of-type {\n",
       "        vertical-align: middle;\n",
       "    }\n",
       "\n",
       "    .dataframe tbody tr th {\n",
       "        vertical-align: top;\n",
       "    }\n",
       "\n",
       "    .dataframe thead th {\n",
       "        text-align: right;\n",
       "    }\n",
       "</style>\n",
       "<table border=\"1\" class=\"dataframe\">\n",
       "  <thead>\n",
       "    <tr style=\"text-align: right;\">\n",
       "      <th></th>\n",
       "      <th>Street No.</th>\n",
       "      <th>Cases</th>\n",
       "    </tr>\n",
       "  </thead>\n",
       "  <tbody>\n",
       "    <tr>\n",
       "      <th>0</th>\n",
       "      <td>I-95 N</td>\n",
       "      <td>39853</td>\n",
       "    </tr>\n",
       "    <tr>\n",
       "      <th>1</th>\n",
       "      <td>I-5 N</td>\n",
       "      <td>39402</td>\n",
       "    </tr>\n",
       "    <tr>\n",
       "      <th>2</th>\n",
       "      <td>I-95 S</td>\n",
       "      <td>36425</td>\n",
       "    </tr>\n",
       "    <tr>\n",
       "      <th>3</th>\n",
       "      <td>I-5 S</td>\n",
       "      <td>30229</td>\n",
       "    </tr>\n",
       "    <tr>\n",
       "      <th>4</th>\n",
       "      <td>I-10 E</td>\n",
       "      <td>26164</td>\n",
       "    </tr>\n",
       "    <tr>\n",
       "      <th>...</th>\n",
       "      <td>...</td>\n",
       "      <td>...</td>\n",
       "    </tr>\n",
       "    <tr>\n",
       "      <th>159647</th>\n",
       "      <td>Villareal Dr</td>\n",
       "      <td>1</td>\n",
       "    </tr>\n",
       "    <tr>\n",
       "      <th>159648</th>\n",
       "      <td>La Jacaranda</td>\n",
       "      <td>1</td>\n",
       "    </tr>\n",
       "    <tr>\n",
       "      <th>159649</th>\n",
       "      <td>SW 273rd Ln</td>\n",
       "      <td>1</td>\n",
       "    </tr>\n",
       "    <tr>\n",
       "      <th>159650</th>\n",
       "      <td>Silent Brook Dr</td>\n",
       "      <td>1</td>\n",
       "    </tr>\n",
       "    <tr>\n",
       "      <th>159651</th>\n",
       "      <td>473-401 Cutoff Rd</td>\n",
       "      <td>1</td>\n",
       "    </tr>\n",
       "  </tbody>\n",
       "</table>\n",
       "<p>159652 rows × 2 columns</p>\n",
       "</div>"
      ],
      "text/plain": [
       "               Street No.  Cases\n",
       "0                  I-95 N  39853\n",
       "1                   I-5 N  39402\n",
       "2                  I-95 S  36425\n",
       "3                   I-5 S  30229\n",
       "4                  I-10 E  26164\n",
       "...                   ...    ...\n",
       "159647       Villareal Dr      1\n",
       "159648       La Jacaranda      1\n",
       "159649        SW 273rd Ln      1\n",
       "159650    Silent Brook Dr      1\n",
       "159651  473-401 Cutoff Rd      1\n",
       "\n",
       "[159652 rows x 2 columns]"
      ]
     },
     "execution_count": 54,
     "metadata": {},
     "output_type": "execute_result"
    }
   ],
   "source": [
    "#count of accident for each street\n",
    "street_df = pd.DataFrame(data['Street'].value_counts()).reset_index().rename(columns={'index':'Street No.', 'Street':'Cases'})\n",
    "street_df"
   ]
  },
  {
   "cell_type": "code",
   "execution_count": null,
   "id": "25441e3a",
   "metadata": {},
   "outputs": [],
   "source": [
    "#Observation: In  5 years (2016-2021) Street No. I-95 N is having the highest road accidents records."
   ]
  },
  {
   "cell_type": "code",
   "execution_count": 55,
   "id": "e9518e35",
   "metadata": {},
   "outputs": [
    {
     "data": {
      "text/plain": [
       "<AxesSubplot:>"
      ]
     },
     "execution_count": 55,
     "metadata": {},
     "output_type": "execute_result"
    },
    {
     "data": {
      "image/png": "[encoded data removed]",
      "text/plain": [
       "<Figure size 432x288 with 1 Axes>"
      ]
     },
     "metadata": {
      "needs_background": "light"
     },
     "output_type": "display_data"
    }
   ],
   "source": [
    "cities_by_accident=data.City.value_counts()\n",
    "cities_by_accident[:10].plot.bar()"
   ]
  },
  {
   "cell_type": "code",
   "execution_count": null,
   "id": "c48ad298",
   "metadata": {},
   "outputs": [],
   "source": [
    "#Observation: Miami is the city with the highest no. of road accidents in US (2016-2021)."
   ]
  },
  {
   "cell_type": "code",
   "execution_count": 56,
   "id": "d0676114",
   "metadata": {},
   "outputs": [
    {
     "data": {
      "text/plain": [
       "<AxesSubplot:>"
      ]
     },
     "execution_count": 56,
     "metadata": {},
     "output_type": "execute_result"
    },
    {
     "data": {
      "image/png": "[encoded data removed]",
      "text/plain": [
       "<Figure size 432x288 with 1 Axes>"
      ]
     },
     "metadata": {
      "needs_background": "light"
     },
     "output_type": "display_data"
    }
   ],
   "source": [
    "cities_by_accident[:20].plot(kind='bar')"
   ]
  },
  {
   "cell_type": "code",
   "execution_count": 57,
   "id": "ba098441",
   "metadata": {},
   "outputs": [
    {
     "data": {
      "text/html": [
       "<div>\n",
       "<style scoped>\n",
       "    .dataframe tbody tr th:only-of-type {\n",
       "        vertical-align: middle;\n",
       "    }\n",
       "\n",
       "    .dataframe tbody tr th {\n",
       "        vertical-align: top;\n",
       "    }\n",
       "\n",
       "    .dataframe thead th {\n",
       "        text-align: right;\n",
       "    }\n",
       "</style>\n",
       "<table border=\"1\" class=\"dataframe\">\n",
       "  <thead>\n",
       "    <tr style=\"text-align: right;\">\n",
       "      <th></th>\n",
       "      <th>Year</th>\n",
       "      <th>Cases</th>\n",
       "    </tr>\n",
       "  </thead>\n",
       "  <tbody>\n",
       "    <tr>\n",
       "      <th>5</th>\n",
       "      <td>2016</td>\n",
       "      <td>122024</td>\n",
       "    </tr>\n",
       "    <tr>\n",
       "      <th>4</th>\n",
       "      <td>2018</td>\n",
       "      <td>163176</td>\n",
       "    </tr>\n",
       "    <tr>\n",
       "      <th>3</th>\n",
       "      <td>2017</td>\n",
       "      <td>163918</td>\n",
       "    </tr>\n",
       "    <tr>\n",
       "      <th>2</th>\n",
       "      <td>2019</td>\n",
       "      <td>258615</td>\n",
       "    </tr>\n",
       "    <tr>\n",
       "      <th>1</th>\n",
       "      <td>2020</td>\n",
       "      <td>625864</td>\n",
       "    </tr>\n",
       "    <tr>\n",
       "      <th>0</th>\n",
       "      <td>2021</td>\n",
       "      <td>1511745</td>\n",
       "    </tr>\n",
       "  </tbody>\n",
       "</table>\n",
       "</div>"
      ],
      "text/plain": [
       "   Year    Cases\n",
       "5  2016   122024\n",
       "4  2018   163176\n",
       "3  2017   163918\n",
       "2  2019   258615\n",
       "1  2020   625864\n",
       "0  2021  1511745"
      ]
     },
     "execution_count": 57,
     "metadata": {},
     "output_type": "execute_result"
    }
   ],
   "source": [
    "#accidents vs year\n",
    "year_df = pd.DataFrame(data.Start_Time.dt.year.value_counts()).reset_index().rename(columns={'index':'Year', 'Start_Time':'Cases'}).sort_values(by='Cases', ascending=True)\n",
    "year_df"
   ]
  },
  {
   "cell_type": "code",
   "execution_count": null,
   "id": "60960144",
   "metadata": {},
   "outputs": [],
   "source": [
    "#observation: Highest number of accidents happened in 2021"
   ]
  },
  {
   "cell_type": "code",
   "execution_count": 58,
   "id": "e77c88f5",
   "metadata": {},
   "outputs": [
    {
     "data": {
      "text/html": [
       "<div>\n",
       "<style scoped>\n",
       "    .dataframe tbody tr th:only-of-type {\n",
       "        vertical-align: middle;\n",
       "    }\n",
       "\n",
       "    .dataframe tbody tr th {\n",
       "        vertical-align: top;\n",
       "    }\n",
       "\n",
       "    .dataframe thead th {\n",
       "        text-align: right;\n",
       "    }\n",
       "</style>\n",
       "<table border=\"1\" class=\"dataframe\">\n",
       "  <thead>\n",
       "    <tr style=\"text-align: right;\">\n",
       "      <th></th>\n",
       "      <th>Weather_Condition</th>\n",
       "      <th>Cases</th>\n",
       "    </tr>\n",
       "  </thead>\n",
       "  <tbody>\n",
       "    <tr>\n",
       "      <th>0</th>\n",
       "      <td>Fair</td>\n",
       "      <td>1107194</td>\n",
       "    </tr>\n",
       "    <tr>\n",
       "      <th>1</th>\n",
       "      <td>Mostly Cloudy</td>\n",
       "      <td>363959</td>\n",
       "    </tr>\n",
       "    <tr>\n",
       "      <th>2</th>\n",
       "      <td>Cloudy</td>\n",
       "      <td>348767</td>\n",
       "    </tr>\n",
       "    <tr>\n",
       "      <th>3</th>\n",
       "      <td>Partly Cloudy</td>\n",
       "      <td>249939</td>\n",
       "    </tr>\n",
       "    <tr>\n",
       "      <th>4</th>\n",
       "      <td>Clear</td>\n",
       "      <td>173823</td>\n",
       "    </tr>\n",
       "    <tr>\n",
       "      <th>5</th>\n",
       "      <td>Light Rain</td>\n",
       "      <td>128403</td>\n",
       "    </tr>\n",
       "    <tr>\n",
       "      <th>6</th>\n",
       "      <td>Overcast</td>\n",
       "      <td>84882</td>\n",
       "    </tr>\n",
       "    <tr>\n",
       "      <th>7</th>\n",
       "      <td>0.0</td>\n",
       "      <td>70636</td>\n",
       "    </tr>\n",
       "    <tr>\n",
       "      <th>8</th>\n",
       "      <td>Scattered Clouds</td>\n",
       "      <td>45132</td>\n",
       "    </tr>\n",
       "    <tr>\n",
       "      <th>9</th>\n",
       "      <td>Light Snow</td>\n",
       "      <td>43752</td>\n",
       "    </tr>\n",
       "  </tbody>\n",
       "</table>\n",
       "</div>"
      ],
      "text/plain": [
       "  Weather_Condition    Cases\n",
       "0              Fair  1107194\n",
       "1     Mostly Cloudy   363959\n",
       "2            Cloudy   348767\n",
       "3     Partly Cloudy   249939\n",
       "4             Clear   173823\n",
       "5        Light Rain   128403\n",
       "6          Overcast    84882\n",
       "7               0.0    70636\n",
       "8  Scattered Clouds    45132\n",
       "9        Light Snow    43752"
      ]
     },
     "execution_count": 58,
     "metadata": {},
     "output_type": "execute_result"
    }
   ],
   "source": [
    "weather_condition_df = pd.DataFrame(data.Weather_Condition.value_counts().head(10)).reset_index().rename(columns={'index':'Weather_Condition', 'Weather_Condition':'Cases'})\n",
    "weather_condition_df"
   ]
  },
  {
   "cell_type": "code",
   "execution_count": 77,
   "id": "509fd863",
   "metadata": {},
   "outputs": [
    {
     "data": {
      "text/plain": [
       "(1.1949354418554958e-05, 0.003931337603704581)"
      ]
     },
     "execution_count": 77,
     "metadata": {},
     "output_type": "execute_result"
    }
   ],
   "source": [
    "high_accident_cities=cities_by_accident[cities_by_accident>=10000]\n",
    "low_accident_cities=cities_by_accident[cities_by_accident<1000]\n",
    "highest_accident=len(high_accident_cities)/len(data)\n",
    "lowest_accident=len(low_accident_cities)/len(data)\n",
    "highest_accident,lowest_accident"
   ]
  },
  {
   "cell_type": "code",
   "execution_count": 75,
   "id": "94ee1342",
   "metadata": {},
   "outputs": [
    {
     "data": {
      "text/plain": [
       "<AxesSubplot:xlabel='City', ylabel='Count'>"
      ]
     },
     "execution_count": 75,
     "metadata": {},
     "output_type": "execute_result"
    },
    {
     "data": {
      "image/png": "[encoded data removed]",
      "text/plain": [
       "<Figure size 432x288 with 1 Axes>"
      ]
     },
     "metadata": {
      "needs_background": "light"
     },
     "output_type": "display_data"
    }
   ],
   "source": [
    "sns.histplot(high_accident_cities)"
   ]
  },
  {
   "cell_type": "code",
   "execution_count": null,
   "id": "117919af",
   "metadata": {},
   "outputs": [],
   "source": [
    "#Observation: Most cities have less than 20000 accidents"
   ]
  },
  {
   "cell_type": "code",
   "execution_count": 62,
   "id": "0b5fb24a",
   "metadata": {},
   "outputs": [
    {
     "data": {
      "text/plain": [
       "<AxesSubplot:xlabel='City', ylabel='Count'>"
      ]
     },
     "execution_count": 62,
     "metadata": {},
     "output_type": "execute_result"
    },
    {
     "data": {
      "image/png": "[encoded data removed]",
      "text/plain": [
       "<Figure size 432x288 with 1 Axes>"
      ]
     },
     "metadata": {
      "needs_background": "light"
     },
     "output_type": "display_data"
    }
   ],
   "source": [
    "sns.histplot(low_accident_cities,log_scale=True)"
   ]
  },
  {
   "cell_type": "code",
   "execution_count": 63,
   "id": "fa9a180a",
   "metadata": {},
   "outputs": [
    {
     "data": {
      "text/plain": [
       "Avera                           1\n",
       "Clifford Township               1\n",
       "White Castle                    1\n",
       "Russian River-Sonoma Coast      1\n",
       "Underhill                       1\n",
       "                               ..\n",
       "Horntown                        1\n",
       "Crooksville                     1\n",
       "Novinger                        1\n",
       "Trementina                      1\n",
       "American Fork-Pleasant Grove    1\n",
       "Name: City, Length: 1110, dtype: int64"
      ]
     },
     "execution_count": 63,
     "metadata": {},
     "output_type": "execute_result"
    }
   ],
   "source": [
    "cities_by_accident[cities_by_accident==1]"
   ]
  },
  {
   "cell_type": "code",
   "execution_count": 64,
   "id": "bef184a6",
   "metadata": {},
   "outputs": [
    {
     "data": {
      "text/plain": [
       "0         2016-02-08 00:37:08\n",
       "1         2016-02-08 05:56:20\n",
       "2         2016-02-08 06:15:39\n",
       "3         2016-02-08 06:51:45\n",
       "4         2016-02-08 07:53:43\n",
       "                  ...        \n",
       "2845337   2019-08-23 18:03:25\n",
       "2845338   2019-08-23 19:11:30\n",
       "2845339   2019-08-23 19:00:21\n",
       "2845340   2019-08-23 19:00:21\n",
       "2845341   2019-08-23 18:52:06\n",
       "Name: Start_Time, Length: 2845342, dtype: datetime64[ns]"
      ]
     },
     "execution_count": 64,
     "metadata": {},
     "output_type": "execute_result"
    }
   ],
   "source": [
    "#start time\n",
    "data.Start_Time"
   ]
  },
  {
   "cell_type": "code",
   "execution_count": 65,
   "id": "ffe9b43c",
   "metadata": {},
   "outputs": [],
   "source": [
    "#Convert datatype\n",
    "data.Start_Time=pd.to_datetime(data.Start_Time)"
   ]
  },
  {
   "cell_type": "code",
   "execution_count": 66,
   "id": "78f00b57",
   "metadata": {},
   "outputs": [
    {
     "name": "stderr",
     "output_type": "stream",
     "text": [
      "C:\\anaconda\\lib\\site-packages\\seaborn\\distributions.py:2619: FutureWarning: `distplot` is a deprecated function and will be removed in a future version. Please adapt your code to use either `displot` (a figure-level function with similar flexibility) or `histplot` (an axes-level function for histograms).\n",
      "  warnings.warn(msg, FutureWarning)\n"
     ]
    },
    {
     "data": {
      "text/plain": [
       "<AxesSubplot:xlabel='Start_Time'>"
      ]
     },
     "execution_count": 66,
     "metadata": {},
     "output_type": "execute_result"
    },
    {
     "data": {
      "image/png": "[encoded data removed]",
      "text/plain": [
       "<Figure size 432x288 with 1 Axes>"
      ]
     },
     "metadata": {
      "needs_background": "light"
     },
     "output_type": "display_data"
    }
   ],
   "source": [
    "sns.distplot(data.Start_Time.dt.hour,bins=24,norm_hist=True,kde=False)"
   ]
  },
  {
   "cell_type": "code",
   "execution_count": null,
   "id": "96e00c50",
   "metadata": {},
   "outputs": [],
   "source": [
    "#Observation:Most accidents happen between 2-7 pm"
   ]
  },
  {
   "cell_type": "code",
   "execution_count": 71,
   "id": "7bac4608",
   "metadata": {},
   "outputs": [
    {
     "data": {
      "text/plain": [
       "<AxesSubplot:xlabel='Start_Time'>"
      ]
     },
     "execution_count": 71,
     "metadata": {},
     "output_type": "execute_result"
    },
    {
     "data": {
      "image/png": "[encoded data removed]",
      "text/plain": [
       "<Figure size 432x288 with 1 Axes>"
      ]
     },
     "metadata": {
      "needs_background": "light"
     },
     "output_type": "display_data"
    }
   ],
   "source": [
    "sns.distplot(data.Start_Time.dt.dayofweek,bins=7,kde=False,norm_hist=True)"
   ]
  },
  {
   "cell_type": "code",
   "execution_count": null,
   "id": "64b468cc",
   "metadata": {},
   "outputs": [],
   "source": [
    "#observation: On weekends the number of accidents is low"
   ]
  },
  {
   "cell_type": "code",
   "execution_count": 70,
   "id": "2a6c9cd3",
   "metadata": {},
   "outputs": [
    {
     "data": {
      "text/plain": [
       "<AxesSubplot:xlabel='Start_Time'>"
      ]
     },
     "execution_count": 70,
     "metadata": {},
     "output_type": "execute_result"
    },
    {
     "data": {
      "image/png": "[encoded data removed]",
      "text/plain": [
       "<Figure size 432x288 with 1 Axes>"
      ]
     },
     "metadata": {
      "needs_background": "light"
     },
     "output_type": "display_data"
    }
   ],
   "source": [
    "sundays_start_time=data.Start_Time[data.Start_Time.dt.dayofweek==6]\n",
    "sns.distplot(sundays_start_time.dt.hour,bins=24,kde=False,norm_hist=True)"
   ]
  },
  {
   "cell_type": "code",
   "execution_count": null,
   "id": "206295c2",
   "metadata": {},
   "outputs": [],
   "source": [
    "#observation: During weekend max accidents occur during 11am-12pm"
   ]
  },
  {
   "cell_type": "code",
   "execution_count": 68,
   "id": "cdd81664",
   "metadata": {},
   "outputs": [
    {
     "data": {
      "text/plain": [
       "<AxesSubplot:xlabel='Start_Time'>"
      ]
     },
     "execution_count": 68,
     "metadata": {},
     "output_type": "execute_result"
    },
    {
     "data": {
      "image/png": "[encoded data removed]",
      "text/plain": [
       "<Figure size 432x288 with 1 Axes>"
      ]
     },
     "metadata": {
      "needs_background": "light"
     },
     "output_type": "display_data"
    }
   ],
   "source": [
    "monday_start_time=data.Start_Time[data.Start_Time.dt.dayofweek==0]\n",
    "sns.distplot(monday_start_time.dt.hour,bins=24,kde=False,norm_hist=True)"
   ]
  },
  {
   "cell_type": "code",
   "execution_count": null,
   "id": "270c6682",
   "metadata": {},
   "outputs": [],
   "source": [
    "#observation: During weekend max accidents occur during 2pm-7pm"
   ]
  },
  {
   "cell_type": "code",
   "execution_count": null,
   "id": "7d170d15",
   "metadata": {},
   "outputs": [],
   "source": [
    "#Summary:\n",
    "-Less than 2% of the cities have accident count more than 10000\n",
    "-Over 1100 cities had just 1 accident.\n",
    "-The number of accidents per city decreases/increases exponentially\n",
    "-Most accidents happen between 2-7 pm(genereal obs)\n",
    "-second highest % of accidents lie between 6am-2pm\n",
    "-On weekends the number of accidents is low\n",
    "-weekdays has different trend when compared to weekends\n",
    "-More accidents occur during the end of the year\n",
    "-During weekend max accidents occur during 2pm-7pm\n",
    "-During weekend max accidents occur during 11am-12pm"
   ]
  },
  {
   "cell_type": "markdown",
   "id": "59e804b0",
   "metadata": {},
   "source": [
    "# END"
   ]
  }
 ],
 "metadata": {
  "kernelspec": {
   "display_name": "Python 3 (ipykernel)",
   "language": "python",
   "name": "python3"
  },
  "language_info": {
   "codemirror_mode": {
    "name": "ipython",
    "version": 3
   },
   "file_extension": ".py",
   "mimetype": "text/x-python",
   "name": "python",
   "nbconvert_exporter": "python",
   "pygments_lexer": "ipython3",
   "version": "3.9.12"
  }
 },
 "nbformat": 4,
 "nbformat_minor": 5
}
